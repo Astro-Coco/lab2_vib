{
 "cells": [
  {
   "cell_type": "code",
   "execution_count": 27,
   "metadata": {},
   "outputs": [],
   "source": [
    "import scipy.integrate as integrate\n",
    "from scipy.integrate import odeint, solve_ivp\n",
    "import scipy.linalg as la\n",
    "import numpy as np\n",
    "import matplotlib.pyplot as plt\n",
    "from math import sin, cos, pi, tan, sqrt\n",
    "import cmath\n",
    "import sys\n",
    "\n",
    "plt.rc('text', usetex = True)\n",
    "plt.rc('font', family = 'serif')"
   ]
  },
  {
   "cell_type": "code",
   "execution_count": 28,
   "metadata": {},
   "outputs": [
    {
     "name": "stdout",
     "output_type": "stream",
     "text": [
      "Omega : 48.48526756435349\n"
     ]
    }
   ],
   "source": [
    "Mav = 47500\n",
    "Mfus = 46266.1\n",
    "Mnlg = 145.3\n",
    "Mmlg = 2*544.3\n",
    "Ifus = 1.6961e6\n",
    "Dnm = 14.441\n",
    "d2 = 13.618\n",
    "d1 = Dnm - d2\n",
    "Ampl = 0.01\n",
    "phi = -2*pi*0.441\n",
    "V = 7.71667\n",
    "omega = 2*pi*V\n",
    "#omega = 111.19499981\n",
    "#omega = 110.14156318\n",
    "#omega = 2.31929416\n",
    "#omega = 8.56023595\n",
    "\n",
    "\n",
    "print(f\"Omega : {omega}\")\n",
    "\n",
    "CA1 = 2*13328.\n",
    "CA2 = 2962.\n",
    "\n",
    "KA1 = 2*2895316.\n",
    "KA2 = 46266.1\n",
    "\n",
    "Km = 2*3891698\n",
    "Kn = 1732578\n",
    "\n",
    "Nddl = 4\n",
    "\n",
    "\n",
    "#Question 1\n",
    "M = np.array([[Mmlg, 0, 0, 0],\n",
    "              [0,Mnlg, 0, 0],\n",
    "              [0,0, Mfus, 0],\n",
    "              [0, 0, 0, Ifus]])\n",
    "\n",
    "invM = np.linalg.inv(M)\n",
    "\n",
    "C = np.array([\n",
    "    [CA1   ,  0     , -CA1            ,  d1*CA1               ],\n",
    "    [0     ,  CA2   , -CA2            , -d2*CA2               ],\n",
    "    [-CA1  , -CA2   ,  CA1 + CA2      ,  d2*CA2 - d1*CA1      ],\n",
    "    [d1*CA2, -d2*CA2,  d2*CA2 - d1*CA1,  d1**2*CA1 + d2**2*CA2]\n",
    "])\n",
    "\n",
    "\n",
    "K = np.array(\n",
    "    [[KA1 + Km,   0,         -KA1,             d1 * KA1],\n",
    "     [0,          KA2 + Kn,  -KA2,             -d2 * KA2],\n",
    "     [-KA1,       -KA2,      KA1 + KA2,         d2 * KA2 - d1 * KA1],\n",
    "     [d1 * KA1,   -d2 * KA2, d2 * KA2 - d1 * KA1, d2**2 * KA2 + d1**2 * KA1]]\n",
    ")\n",
    "\n",
    "F = np.array([Ampl*Km, Ampl*Kn, 0, 0])\n",
    "Phase = np.array([phi, 0, 0, 0])"
   ]
  },
  {
   "cell_type": "code",
   "execution_count": null,
   "metadata": {},
   "outputs": [
    {
     "name": "stdout",
     "output_type": "stream",
     "text": [
      "PHI normalisée (norme euclidienne) [[ 9.99917481e-01 -1.07955993e-03  3.99283783e-01 -4.81396359e-02]\n",
      " [ 7.93951428e-03  9.99999414e-01  1.79275320e-02  2.93697261e-01]\n",
      " [-1.00967236e-02 -7.11545130e-05  9.16494669e-01  5.36890216e-01]\n",
      " [ 2.26198386e-04 -3.05941922e-05 -1.69878209e-02  7.89413320e-01]]\n",
      "PHI telle que Phit.M.Phi=I [[ 3.02418133e-02 -8.95590724e-05  2.00838288e-03 -4.65314787e-05]\n",
      " [ 2.40125123e-04  8.29588216e-02  9.01748325e-05  2.83885983e-04]\n",
      " [-3.05368430e-04 -5.90289800e-06  4.60993479e-03  5.18954811e-04]\n",
      " [ 6.84121388e-06 -2.53805962e-06 -8.54481202e-05  7.63042104e-04]]\n"
     ]
    }
   ],
   "source": [
    "#Valeur propre + vecteurs propres\n",
    "#freqs nats\n",
    "#8 schémas, 2 par modes propres\n",
    "#Réponse du sytème ( 1coubre par ddl)\n",
    "#Amplitudes max et déphases chaque ddl (0 à 120 rad/s)\n",
    "# Y superposer les amplitudes de forçages\n",
    "#g réponse du système à la rafale (4 ddl)\n",
    "\n",
    "LAMBDA, PHI = la.eig(K, M)\n",
    "print(f\"PHI normalisée (norme euclidienne) {PHI}\")\n",
    "Wi = np.sqrt(np.real(LAMBDA))\n",
    "\n",
    "Mm = np.diag(np.diag(PHI.transpose()@M@PHI))\n",
    "PHI = PHI@np.sqrt(np.linalg.inv(Mm))\n",
    "print(f\"PHI telle que Phit.M.Phi=I {PHI}\")\n",
    "\n",
    "Mm = PHI.transpose()@M@PHI\n",
    "Cm = PHI.transpose()@C@PHI\n",
    "\n",
    "zeta = np.diag(Cm)/2*Wi\n",
    "\n",
    "Fm = PHI.transpose()*F\n"
   ]
  },
  {
   "cell_type": "code",
   "execution_count": 30,
   "metadata": {},
   "outputs": [],
   "source": [
    "n = 40001\n",
    "\n",
    "t = np.linspace(0,100, n)\n",
    "z0 = np.zeros(2*Nddl)\n",
    "\n",
    "x = np.zeros((n, Nddl))\n",
    "y = np.zeros((n, Nddl))\n",
    "\n",
    "u = np.zeros((n, Nddl))\n",
    "for i in range(Nddl):\n",
    "    u[i][:] = F[:]*np.cos(omega*t[i] + Phase[:])\n",
    "\n",
    "def model(z, t, u, invm, c, k, n):\n",
    "    xl = np.zeros(n)\n",
    "    yl = np.zeros(2*n)\n",
    "    dzdt = np.zeros(2*n)\n",
    "    for i in range(n):\n",
    "        xl[i] = z[2*i]\n",
    "        yl[i] = z[2*i + 1]\n",
    "\n",
    "    dxdt = yl\n",
    "    dydt = invm @ (-c @ yl - k @ xl + u)\n",
    "    for i in range(n):\n",
    "        dzdt[2*i] = dxdt[i]\n",
    "        dzdt[2*i + 1] = dydt[i]\n",
    "    return dzdt"
   ]
  },
  {
   "cell_type": "code",
   "execution_count": null,
   "metadata": {},
   "outputs": [],
   "source": [
    "for i in range(1, n):\n",
    "    tspan = [t[i-1], t[i]]\n",
    "    for j in range(Nddl):\n",
    "        x[i,j] = z[1, 2*j]\n",
    "        y[i,j = z[1, 2*j + 1]]"
   ]
  },
  {
   "cell_type": "code",
   "execution_count": null,
   "metadata": {},
   "outputs": [
    {
     "name": "stdout",
     "output_type": "stream",
     "text": [
      "PHI telle que Phit.M.Phi=I [[ 3.02418133e-02 -8.95590724e-05  2.00838288e-03 -4.65314787e-05]\n",
      " [ 2.40125123e-04  8.29588216e-02  9.01748325e-05  2.83885983e-04]\n",
      " [-3.05368430e-04 -5.90289800e-06  4.60993479e-03  5.18954811e-04]\n",
      " [ 6.84121388e-06 -2.53805962e-06 -8.54481202e-05  7.63042104e-04]]\n"
     ]
    }
   ],
   "source": [
    "#Tristan est trop coule"
   ]
  }
 ],
 "metadata": {
  "kernelspec": {
   "display_name": "Python 3",
   "language": "python",
   "name": "python3"
  },
  "language_info": {
   "codemirror_mode": {
    "name": "ipython",
    "version": 3
   },
   "file_extension": ".py",
   "mimetype": "text/x-python",
   "name": "python",
   "nbconvert_exporter": "python",
   "pygments_lexer": "ipython3",
   "version": "3.11.9"
  }
 },
 "nbformat": 4,
 "nbformat_minor": 2
}
